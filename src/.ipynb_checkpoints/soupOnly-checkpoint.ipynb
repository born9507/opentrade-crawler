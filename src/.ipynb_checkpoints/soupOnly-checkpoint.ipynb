{
 "cells": [
  {
   "cell_type": "code",
   "execution_count": 1,
   "metadata": {},
   "outputs": [
    {
     "ename": "SyntaxError",
     "evalue": "invalid syntax (<ipython-input-1-4c31018039f0>, line 18)",
     "output_type": "error",
     "traceback": [
      "\u001b[1;36m  File \u001b[1;32m\"<ipython-input-1-4c31018039f0>\"\u001b[1;36m, line \u001b[1;32m18\u001b[0m\n\u001b[1;33m    start_index = example.find(\"id_1\")\u001b[0m\n\u001b[1;37m              ^\u001b[0m\n\u001b[1;31mSyntaxError\u001b[0m\u001b[1;31m:\u001b[0m invalid syntax\n"
     ]
    }
   ],
   "source": [
    "import time, re\n",
    "from selenium import webdriver\n",
    "from selenium.webdriver.support.ui import WebDriverWait\n",
    "from bs4 import BeautifulSoup\n",
    "\n",
    "with open(\"page.html\") as f:\n",
    "    soup = BeautifulSoup(f, 'html.parser')\n",
    "\n",
    "titles = soup.select('span > span.cont > span.text_cut')\n",
    "amounts = soup.select('span > span.cont > span.amount > span.pink_txt')\n",
    "links = soup.select('a[href]')\n",
    "\n",
    "# ids = soup.find_all(string=re.compile(\"id_\"))\n",
    "# print(ids)\n",
    "\n",
    "for link in links:\n",
    "    example = str(link.replace('\\n','').replace('  ','')\n",
    "    start_index = example.find(\"id_1\")\n",
    "    print(example[start_index:start_index+7])\n",
    "\n",
    "# links = list(map(lambda link: \n",
    "#     str(link.text.replace('\\n','').replace(',','').strip()),  \n",
    "#     links \n",
    "# ))\n",
    "\n",
    "# p = re.compile(example)\n",
    "# m = p.search(\"id\")\n",
    "# print(m)\n",
    "\n",
    "# var url = \"/contest/\"+season_id+\"/\"+startup_id+\"/popup\";\n",
    "\n",
    "# <a href=\"javascript:fnStartupPopup('60','1168');\" id=\"id_1168\">\n",
    "#id_1\n",
    "\n",
    "# a href=\"javascript:fnstartupPopup\n",
    "\n",
    "\n",
    "# print(len(titles))\n",
    "# print(len(amounts))\n",
    "# print(len(links))\n",
    "\n",
    "titles = list(map(lambda title: title.text.strip() ,titles))\n",
    "amounts = list(map(lambda amount: \n",
    "    int(amount.text.replace('원','').replace(',','').strip()),  \n",
    "    amounts \n",
    "))\n",
    "\n",
    "results = {}\n",
    "\n",
    "for i in range(len(titles)):\n",
    "    title = titles[i]\n",
    "    # title = euc2utf(title)\n",
    "    amount = amounts[i]\n",
    "\n",
    "    results[title] = amount\n",
    "\n",
    "# key 값에 따라 내림차순으로 정렬\n",
    "results = sorted(results.items(), key=lambda x: x[1], reverse=True)\n",
    "\n",
    "# \n",
    "with open('result.txt', 'w') as f:\n",
    "    for i in range(len(results)):\n",
    "        data = (f\"{i+1}, {results[i][0]}, {results[i][1]}원, \\n\")\n",
    "        f.write(data)\n",
    "\n",
    "\n",
    "# sorted(d.items(), key=lambda x: x[1], reverse=True)\n",
    "\n",
    "# with open('result.csv','w', newline='') as f:\n",
    "#     w = csv.writer(f)\n",
    "#     w.writerows(result.keys())\n",
    "#     w.writerows(result.values())\n",
    "\n",
    "# span class=\"name_text_cut\" 이 제목\n",
    "# span class=\"amount\" > span class=\"pink_txt\" 가 모집금액\n",
    "\n",
    "\n",
    "#id_1382 > span > span.cont > span.name.text_cut\n",
    "#id_1428 > span > span.cont > span.amount > span.pink_txt"
   ]
  },
  {
   "cell_type": "code",
   "execution_count": null,
   "metadata": {},
   "outputs": [],
   "source": []
  }
 ],
 "metadata": {
  "kernelspec": {
   "display_name": "Python 3",
   "language": "python",
   "name": "python3"
  },
  "language_info": {
   "codemirror_mode": {
    "name": "ipython",
    "version": 3
   },
   "file_extension": ".py",
   "mimetype": "text/x-python",
   "name": "python",
   "nbconvert_exporter": "python",
   "pygments_lexer": "ipython3",
   "version": "3.7.7"
  }
 },
 "nbformat": 4,
 "nbformat_minor": 4
}
